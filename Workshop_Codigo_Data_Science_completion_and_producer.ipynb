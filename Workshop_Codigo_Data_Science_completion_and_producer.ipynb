{
  "nbformat": 4,
  "nbformat_minor": 0,
  "metadata": {
    "colab": {
      "name": "Workshop - Data Science completion and producer",
      "provenance": [],
      "collapsed_sections": [
        "vLHg8c9AenGs",
        "HhZ9oHejFisY",
        "T-42-XRIFsJn"
      ],
      "toc_visible": true
    },
    "kernelspec": {
      "name": "python3",
      "display_name": "Python 3"
    },
    "language_info": {
      "name": "python"
    }
  },
  "cells": [
    {
      "cell_type": "markdown",
      "metadata": {
        "id": "mpL6wxqlEJR7"
      },
      "source": [
        "# Dataset: Completamiento y producción\n",
        "\n",
        "\n",
        "\n",
        "\n",
        "\n"
      ]
    },
    {
      "cell_type": "markdown",
      "metadata": {
        "id": "x5sJfDVKGJp3"
      },
      "source": [
        "\n",
        "\n",
        "![Baner_imagen](https://i.ibb.co/3rMLZJ7/oil.jpg)\n",
        "\n",
        "---\n",
        "\n",
        "**Carolina Piedrahita | Analista de datos | Data Scientist**\n",
        "* Correo: cpiedrahita@unal.edu.co\n",
        "* Linkedin: www.linkedin.com/in/carolina-piedrahita\n",
        "* Github: https://github.com/CarolinaPiedrahita/DataScienceOilandGas\n",
        "* Nro: +57 310 285 47 73\n"
      ]
    },
    {
      "cell_type": "markdown",
      "source": [
        "______________________\n",
        "![Baner_imagen](https://i.ibb.co/nmHwdx0/CicloDC.jpg)\n"
      ],
      "metadata": {
        "id": "PtJIMzKkAfQB"
      }
    },
    {
      "cell_type": "markdown",
      "metadata": {
        "id": "vLHg8c9AenGs"
      },
      "source": [
        "## 0.- Importación de librerías\n"
      ]
    },
    {
      "cell_type": "code",
      "metadata": {
        "id": "7mtpWykYHcth"
      },
      "source": [
        "import pandas as pd # Manejo de data estructurada (Dataframe)\n",
        "import numpy as np #Manejo de matrices\n",
        "import matplotlib.pyplot as plt # Gráficas\n",
        "import seaborn as sns  #Gráficas sencillas\n",
        "import folium  #'''Spatial Visualizations'''\n",
        "import folium.plugins #'''Spatial Visualizations'''\n",
        "import cv2 # para leer imagenes\n",
        "\n",
        "from sklearn.model_selection import train_test_split # Separar datos en Train(Entrenamiento) y Test(Prueba)"
      ],
      "execution_count": null,
      "outputs": []
    },
    {
      "cell_type": "markdown",
      "metadata": {
        "id": "OkOzPpdsNddT"
      },
      "source": [
        "**Funciones generales para graficar**"
      ]
    },
    {
      "cell_type": "code",
      "metadata": {
        "id": "pM1tKev-NeHq"
      },
      "source": [
        "def analisisNumericas(df, variable):\n",
        "  # fig, ax = plt.subplots(1, 2,figsize=(12, 4))\n",
        "  # ax[0].hist(df[variable], bins=25)\n",
        "  # ax[1].boxplot(df[variable],0, 'gD')\n",
        "  # plt.show()\n",
        "\n",
        "  print(\" \"*20,\"Histograma\",\" \"*20)\n",
        "  df[variable].plot.hist(bins=25,figsize=(8,4),color=\"#CABDE9\")\n",
        "  plt.show()\n",
        "  print(\"\\n\")\n",
        "  print(\" \"*20,\"Boxplot\",\" \"*20)\n",
        "  df[variable].plot.box(figsize=(8,4))\n",
        "  plt.show()\n",
        "\n",
        "def analisisCategoricas(df, variable):\n",
        "  frecuencia_absoluta = pd.DataFrame(df[variable].astype('str').fillna('Nulo').value_counts(dropna = False))\n",
        "  frecuencia_absoluta.columns = ['FREC_ABS'] \n",
        "  frecuencia_relativa = pd.DataFrame(df[variable].astype('str').fillna('Nulo').value_counts(normalize = True, dropna = False))\n",
        "  frecuencia_relativa.columns = ['FREC_REL'] \n",
        "  tablaResumen = pd.concat([frecuencia_absoluta,frecuencia_relativa], axis = 1)\n",
        "  display(tablaResumen)\n",
        "  tablaResumen\n",
        "  plt.bar(x = tablaResumen.index, height = tablaResumen['FREC_ABS'], color=\"#CABDE9\")\n",
        "  for i, txt in enumerate(tablaResumen['FREC_ABS']):\n",
        "    plt.annotate(str(txt), (i, txt), fontsize = 12)\n",
        "  plt.twinx()\n",
        "  plt.plot(tablaResumen['FREC_REL'], linestyle='-', linewidth=2.0, color='red')\n",
        "  plt.ylim(0, 1)\n",
        "  for i, txt in enumerate(tablaResumen['FREC_REL']):\n",
        "    plt.annotate(str(round(txt * 100, 1)) + '%', (i, txt), fontsize = 12, ha='center')\n",
        "  plt.show()"
      ],
      "execution_count": null,
      "outputs": []
    },
    {
      "cell_type": "markdown",
      "metadata": {
        "id": "HhZ9oHejFisY"
      },
      "source": [
        "## 1. Comprensión del negocio"
      ]
    },
    {
      "cell_type": "markdown",
      "metadata": {
        "id": "trmoTdekGbMg"
      },
      "source": [
        "Una empresa operadora de un campo africano desea a través de un estudio responder a las siguientes preguntas: \n",
        "\n",
        "*   ¿Cuál es el completamiento que dá tasas más altas de producción?\n",
        "*   ¿Cuál es el completamiento que dá tasas más bajas de producción?\n",
        "*   ¿Cuál es el completamiento que dá tasas más altas de inyección?\n",
        "*   ¿Cuál es el completamiento que dá tasas más bajas de inyección?\n",
        "*   ¿Cuáles son las variables que más afectan la producción?\n",
        "\n",
        "Y ***adicional se busca generar un modelo para predecir el valor del caudal de petróleo*** según el tipo de yacimiento. "
      ]
    },
    {
      "cell_type": "markdown",
      "metadata": {
        "id": "T-42-XRIFsJn"
      },
      "source": [
        "## 2. Comprensión de los datos"
      ]
    },
    {
      "cell_type": "markdown",
      "metadata": {
        "id": "BYiNPGxvFXjF"
      },
      "source": [
        "**En esta etapa nos avocaremos a conocer todo lo referente a los datos con los que contamos**"
      ]
    },
    {
      "cell_type": "markdown",
      "metadata": {
        "id": "ZyLEgt-_rxF7"
      },
      "source": [
        "Las características  son: \n",
        "\n",
        "*   Qo: Caudal oil\n",
        "*   Qw: Caudal agua\n",
        "*   Qg: Caudal de gas\n",
        "*   Year: Año\n",
        "*   Month: Mes\n",
        "*   wellAPI: API del pozo\n",
        "*   Wellname: Nombre del pozo\n",
        "*   BHP: Presión de fondo\n",
        "*   CompL: Completamiento\n",
        "*   FlowDays: Días de flujo\n",
        "*   Type: Tipo\n",
        "*   TD: Profundidad verdadera\n",
        "*   reservoir: yacimiento\n",
        "*   long: longitud\n",
        "*   lat: latitud\n",
        "\n",
        "\n",
        "\n",
        "\n",
        "\n",
        "\n",
        "\n",
        "\n"
      ]
    },
    {
      "cell_type": "markdown",
      "metadata": {
        "id": "7IoxiqidCxGn"
      },
      "source": [
        "### 2.1.- Recopilación de los Datos\n"
      ]
    },
    {
      "cell_type": "code",
      "source": [
        "# Lectura de la base de datos desde Github en internet y asignación a la variable df.\n",
        "path = \"https://raw.githubusercontent.com/CarolinaPiedrahita/DataScienceOilandGas/main/DatasetCompletamientoProducer.csv\"\n",
        "df = pd.read_csv(path)\n",
        " "
      ],
      "metadata": {
        "id": "0Nw-qKpfrvDx"
      },
      "execution_count": null,
      "outputs": []
    },
    {
      "cell_type": "code",
      "metadata": {
        "id": "0UZx9cW5HT0n"
      },
      "source": [
        "df.shape\n",
        "# INTERPRETACION:\n",
        "# 3220 observaciones | registros o filas\n",
        "# 15 columnas"
      ],
      "execution_count": null,
      "outputs": []
    },
    {
      "cell_type": "code",
      "source": [
        "df.info() #Acá podemos observar el tipo de dato y la cantidad de registros asociados a cada variable."
      ],
      "metadata": {
        "id": "3wm7CutvyGET"
      },
      "execution_count": null,
      "outputs": []
    },
    {
      "cell_type": "code",
      "source": [
        "df.head() # Acá podemos visualizar como esta formado nuestro dataset, y ejemplo de los primeros 10 datos que lo conforman. "
      ],
      "metadata": {
        "id": "8YWoY-cwH1Es"
      },
      "execution_count": null,
      "outputs": []
    },
    {
      "cell_type": "code",
      "metadata": {
        "id": "P0nsnz7gWvLS"
      },
      "source": [
        "target = 'Qo' # sera el target dado que se vamos a  modelar con pozos productores"
      ],
      "execution_count": null,
      "outputs": []
    },
    {
      "cell_type": "code",
      "metadata": {
        "id": "8KSk2oU8XBVT"
      },
      "source": [
        "df[target].value_counts() #Se realiza un conteo por tipo de tasa de producción de petróleo\n"
      ],
      "execution_count": null,
      "outputs": []
    },
    {
      "cell_type": "code",
      "metadata": {
        "id": "JFYXoZLQN--T"
      },
      "source": [
        "df['reservoir'].value_counts()\n",
        "#Se realiza un conteo por tipo de yacimiento\n"
      ],
      "execution_count": null,
      "outputs": []
    },
    {
      "cell_type": "code",
      "source": [
        "df['CompL'].value_counts() #Se realiza un conteo por completamiento"
      ],
      "metadata": {
        "id": "ESo8dzDONyHV"
      },
      "execution_count": null,
      "outputs": []
    },
    {
      "cell_type": "markdown",
      "metadata": {
        "id": "qdYJgpbhfvbG"
      },
      "source": [
        "### 2.2 Identificación y conteo de valores faltantes:\n",
        "\n",
        "Voy aplicar el método `isnull()` y a utilizar la función de agregación `sum()` para identificar los valores faltantes por variable."
      ]
    },
    {
      "cell_type": "code",
      "metadata": {
        "id": "BMcOqVZSPJjN"
      },
      "source": [
        "datos_faltantes = df.isnull().sum()\n",
        "datos_faltantes"
      ],
      "execution_count": null,
      "outputs": []
    },
    {
      "cell_type": "markdown",
      "metadata": {
        "id": "79cLg6eLi8nZ"
      },
      "source": [
        "De acuerdo a la información anterior no tenemos datos faltantes para ningún campo.\n"
      ]
    },
    {
      "cell_type": "markdown",
      "metadata": {
        "id": "XLhAUgc4Rqw7"
      },
      "source": [
        "Por lo cuál, no es necesario hacer tratamiento de datos faltantes, para fines académicos se listan las opciones de tratamiento de datos faltantes: \n",
        "\n",
        "<ol>\n",
        "    <li>Eliminar el dato entero<br>\n",
        "        a. Eliminar la fila entera<br>\n",
        "        b. Eliminar la columna entera\n",
        "    </li>\n",
        "    <li>Reemplazar el dato<br>\n",
        "        a. Reemplazar por la media<br>\n",
        "        b. Reemplazar por la moda<br>\n",
        "        c. Reemplazar basados en otra función\n",
        "    </li>\n",
        "</ol>\n",
        "\n",
        "En este caso tenemos cierta libertad para aplicar diferences métodos de llenado de datos faltantes; no obstante, algunos métodos pueden resultar más adecuados que otros depende del caso. Ejemplo:"
      ]
    },
    {
      "cell_type": "markdown",
      "metadata": {
        "id": "9zQg9S97kgOc"
      },
      "source": [
        "Teniendo en cuenta las buenas práctias sólo debemos eliminar una columna sí la mayoría de entradas son vacías. En nuestro caso, ninguna de las columnas cumplen con este criterio como para ser eliminadas. \n",
        "\n"
      ]
    },
    {
      "cell_type": "code",
      "metadata": {
        "id": "p-qPmA8F9XAv"
      },
      "source": [
        "#aparencia de la tabla luego de procesarla\n",
        "df.head()"
      ],
      "execution_count": null,
      "outputs": []
    },
    {
      "cell_type": "markdown",
      "metadata": {
        "id": "uMRKEg60srEb"
      },
      "source": [
        "### 2.3 Corrección de datos\n",
        "\n",
        "<p>Cómo un último paso en el preprocesado de los datos, se pasa a  revisar de que todos los datos estén en el formato adecuado(int, float, text u otro).</p>\n",
        "\n",
        "Podemos usar en Pandas\n",
        "<p><b>.dtypes()</b>  para ver el tipo</p>\n",
        "<p><b>.astype()</b> para cambiar el tipo</p>"
      ]
    },
    {
      "cell_type": "code",
      "metadata": {
        "id": "YgDt4jo5sTqT"
      },
      "source": [
        "df.dtypes"
      ],
      "execution_count": null,
      "outputs": []
    },
    {
      "cell_type": "markdown",
      "source": [
        "En nuestro caso vamos definir nuestras variables categóricas como \"string\" (o cadena de caracteres es un tipo de dato que se utiliza para almacenar textos)."
      ],
      "metadata": {
        "id": "_4mX_EU42jtN"
      }
    },
    {
      "cell_type": "code",
      "metadata": {
        "id": "xdj0Hztul_uZ"
      },
      "source": [
        "df[[\"wellAPI\"]] = df[[\"wellAPI\"]].astype(\"str\")\n",
        "df[[\"Wellname\"]] = df[[\"Wellname\"]].astype(\"str\")\n",
        "df[[\"Type\"]] = df[[\"Type\"]].astype(\"str\")\n",
        "df[[\"reservoir\"]] = df[[\"reservoir\"]].astype(\"str\")\n",
        "df[[\"Year\"]] = df[[\"Year\"]].astype(\"str\")\n",
        "df[[\"Month\"]] = df[[\"Month\"]].astype(\"str\")"
      ],
      "execution_count": null,
      "outputs": []
    },
    {
      "cell_type": "code",
      "source": [
        "df.dtypes"
      ],
      "metadata": {
        "id": "cqetAkrhK5ej"
      },
      "execution_count": null,
      "outputs": []
    },
    {
      "cell_type": "markdown",
      "metadata": {
        "id": "Yby03VsJloRQ"
      },
      "source": [
        "Se puede observar que todas las columnas tienen el tipo correcto. \n",
        "\n"
      ]
    },
    {
      "cell_type": "markdown",
      "metadata": {
        "id": "OjjGohIzpqw6"
      },
      "source": [
        "### 2.4 Exploración de los Datos\n",
        "\n",
        "El análisis exploratorio de datos (EDA del inglés Exploratory Data Analysis) se realiza con el fin de:\n",
        "\n",
        "<ol>\n",
        "  <li>Resumir las principales características del conjunto de datos.</li>\n",
        "  <li>Entender mejor el conjunto de datos que se está tratando.</li>\n",
        "  <li>Establecer relaciones entre variables.</li>\n",
        "  <li>Determinar si una variables es un buen predictor de una variable blanco.</li>\n",
        "  <li>Extraer las variables más importantes.</li>\n",
        "</ol>\n",
        "\n",
        "**Objetivo:** Determinar las características que más impactan en el valor de la tasa de producción para el caso de estudio.\n",
        "\n",
        "Para abordar el análisis exploratorio de datos, es útil aplicar las siguientes técnicas:\n",
        "\n",
        "<ol>\n",
        "  <li> Estadística descriptiva</li>\n",
        "  <li> Agrupamiento de datos</li>  \n",
        "  <li> Correlación (Mapas de correlación)</li>\n",
        "</ol>\n",
        "\n"
      ]
    },
    {
      "cell_type": "markdown",
      "metadata": {
        "id": "7-TVAEAtmxfv"
      },
      "source": [
        "Antes de ponernos en la tarea de construir un modelo que pretenda predecir alguna característica del conjunto de datos, es importante realizar una exploración de los datos. La **estadística descriptiva** nos permite explorar los datos con el propósito de hallar las características principales, mediante la implementación de gráficas y el cálculo de algunas variable estadísticas. Para este fín, en Python, podemos hacer uso de:\n",
        "\n",
        "<ol>\n",
        "  <li>Métodos: <code>.describe()</code>, el cuál permite obtener un resumen estadístico de las <b>variables numéricas</b> en <code>pandas</code>, o la función <code>.value_counts()</code>, la cual permite contabilizar variables categóricas .</li>\n",
        "    <li>Box plots. </li>\n",
        "    <li>Gráficos de dispersión. </li>\n",
        "</ol>"
      ]
    },
    {
      "cell_type": "code",
      "execution_count": null,
      "metadata": {
        "id": "JFzEUhD7dUVx"
      },
      "outputs": [],
      "source": [
        "df.describe() # Descripción estadística de los variables del dataset: desviación estandar (std), minimos y maximos, percentiles 25%, 50%, 75%."
      ]
    },
    {
      "cell_type": "markdown",
      "metadata": {
        "id": "f6onc-OqSxpx"
      },
      "source": [
        "###Definición de variables categóricas y númericas."
      ]
    },
    {
      "cell_type": "code",
      "source": [
        "# Definimos las variables que trataremos como numéricas y como categóricas de nuestro dataset generado\n",
        "varCategoricas = ['reservoir','Year','Month']\n",
        "varNumericas = ['Qo', 'Qw','CompL','FlowDays','TD'] "
      ],
      "metadata": {
        "id": "68sqqnPYMWgc"
      },
      "execution_count": null,
      "outputs": []
    },
    {
      "cell_type": "markdown",
      "source": [
        "#### Sacamos el análisis categórico para cada variable.\n"
      ],
      "metadata": {
        "id": "iL4iiQW5OPYN"
      }
    },
    {
      "cell_type": "markdown",
      "source": [
        ""
      ],
      "metadata": {
        "id": "n0mqrifkwkR5"
      }
    },
    {
      "cell_type": "code",
      "source": [
        "#Sacamos el analisis categorico para cada variable\n",
        "for categorica in varCategoricas:\n",
        "    print(\"-\"*50,categorica,\"-\"*50)\n",
        "    analisisCategoricas(df, categorica)\n",
        "    plt.figure(figsize=(10,10))\n",
        "    print(\"\\n\\n\")"
      ],
      "metadata": {
        "id": "ydlklq3JOIdF"
      },
      "execution_count": null,
      "outputs": []
    },
    {
      "cell_type": "markdown",
      "source": [
        "#### **Interpretación variables categóricas:**\n",
        "* Se tienen 3220 datos para pozos productores.\n",
        "* La mayoría de los yacimientos son tipo Red para este dataset se tienen el  59.7% en esta modalidad y el 23% tipo Maine.\n",
        "* El año en el cuál se tiene más registros es el 2009 y 2013, los meses para los cuáles más registros se reportan en este dataset son Octubre (9.3% de los datos), Marzo (8.9%) y Septiembre (8.8%)."
      ],
      "metadata": {
        "id": "HWryW06iPcKN"
      }
    },
    {
      "cell_type": "markdown",
      "metadata": {
        "id": "dwqJ_UJxTFcc"
      },
      "source": [
        "#### Sacamos el análisis númerico para cada variable."
      ]
    },
    {
      "cell_type": "markdown",
      "source": [
        "**Interés del box-plot** El máximo interés del box-plot es visualizar la distribución de una variable numérica de la manera más simplificada posible. Sólo utiliza los valores de los cuartiles, los extremos (el mínimo y el máximo) y valores raros o outliers.\n",
        "\n",
        "No depende de valores ponderados como la media. Simplemente se fija en las características de la posición. En el fondo, primero ordena la variable y después la caracteriza según la posición de los cuartiles y los valores extremos.\n",
        "\n",
        "![Baner_imagen](https://i.ibb.co/NjZMXXb/box2.png)\n",
        "\n",
        "________________________________\n",
        "**Interés del histograma** Interpretar las variaciones de los datos.\n",
        "Ofrecer una mejor visión de la información proporcionada por los datos para interpretarlos más adecuadamente.\n",
        "\n",
        "![Baner_imagen](https://i.ibb.co/wW7cP8k/histograma.jpg) "
      ],
      "metadata": {
        "id": "_ef8wceIW5iI"
      }
    },
    {
      "cell_type": "code",
      "metadata": {
        "id": "SGLOSENMBme0"
      },
      "source": [
        "for numerica in varNumericas:\n",
        "  print(\"#\"*30,numerica,\"#\"*30)\n",
        "  analisisNumericas(df, numerica)\n",
        "  plt.figure(figsize=(10,10))\n",
        "  print(\"\\n\\n\")"
      ],
      "execution_count": null,
      "outputs": []
    },
    {
      "cell_type": "markdown",
      "metadata": {
        "id": "2CNkS5ShTMjs"
      },
      "source": [
        "#### **Interpretación variables númericas**"
      ]
    },
    {
      "cell_type": "markdown",
      "metadata": {
        "id": "lCEzGqMGEFD0"
      },
      "source": [
        "**Comentario:** Del análisis de las variables numéricas se puede observar lo siguiente:\n",
        "1. **Qo:** No posee una distribucion normal, posee outliers superiores.\n",
        "2. **Qw:**  No posee una distribucion normal, posee outliers superiores. Histograma con islas separadas\n",
        "3. **CompL:** Se observa que no sigue una distribución normal, histograma con islas separadas y posee outliers superiores.\n",
        "4. **FlowDays:** No sigue una distribución normal, posee outliers inferiores.\n",
        "5. **TD:**  No posee una distribucion normal, posee 2 outliers superiores.Histograma con islas separadas\n",
        "\n",
        "\n",
        "\n",
        "\n",
        "\n",
        "\n"
      ]
    },
    {
      "cell_type": "markdown",
      "metadata": {
        "id": "2rums3X6he1v"
      },
      "source": [
        "### Tratamiento de Outlier y nulos en el target Qo y completamiento"
      ]
    },
    {
      "cell_type": "markdown",
      "metadata": {
        "id": "9XWzNCwfH7hV"
      },
      "source": [
        "En las gráficas anteriores (boxplot), vemos que entre Q1 y Q3 sabemos que están el 50% de los valores obtenidos en el estudio. A esta distancia se le llama rango intercuantílico (IQR: InterQuantile Range)."
      ]
    },
    {
      "cell_type": "markdown",
      "metadata": {
        "id": "5sTCzs_BP35K"
      },
      "source": [
        "Para el tratamiento de estos outlier se decide definir una función que reciba como parámetros el conjunto de datos, el umbral inferior y el umbral superior. Y en la función se decide reemplazar por la media aquellos valores atípicos que estén por debajo del umbral inferior, y por la mediana aquellos que estén por encima del umbral superior. Cómo se muestra a continuación:\n",
        "\n"
      ]
    },
    {
      "cell_type": "code",
      "metadata": {
        "id": "F-c6YzhCLSs4"
      },
      "source": [
        "# ## Eliminando los outliers de Qo\n",
        "#target = 'Qo'\n",
        "## Eliminando los outliers del Qo\n",
        "Q1_target = df[target].quantile(0.25)\n",
        "Q3_target = df[target].quantile(0.75)\n",
        "#se calcula el rango intercuantílico IQR\n",
        "IQR_target = Q3_target - Q1_target\n",
        "#Se define como valor atípico leve \n",
        "#aquel que dista 1,5 veces el rango intercuantílico por debajo de Q1 o por encima de Q3\n",
        "inf_target= Q1_target - 1.5 * IQR_target #vamos a calcular cual sería el umbral por abajo\n",
        "sup_target= Q3_target + 1.5 * IQR_target #vamos a calcular cual sería el umbral por arriba\n",
        "print('inf_target:',inf_target, 'sup_target:',sup_target)\n",
        "#Quitando outlier\n",
        "df=df[(df[target] >= inf_target) & (df[target] <= sup_target)]\n",
        "print('Tamano despues de filtar los outliers de target: Qo',df.shape)\n",
        "##Eliminando nulos\n",
        "df.dropna(inplace=True)\n",
        "print('Tamano despues de filtar los nulos de target',df.shape)"
      ],
      "execution_count": null,
      "outputs": []
    },
    {
      "cell_type": "code",
      "source": [
        "CompL ='CompL' #declarando la variable\n",
        "# ## Eliminando los outliers de CompL \n",
        "Q1_CompL = df[CompL].quantile(0.25)\n",
        "Q3_CompL  = df[CompL].quantile(0.75)\n",
        "#se calcula el rango intercuantílico IQR\n",
        "IQR_CompL  = Q3_CompL - Q1_CompL \n",
        "#Se define como valor atípico leve \n",
        "#aquel que dista 1,5 veces el rango intercuantílico por debajo de Q1 o por encima de Q3\n",
        "inf_CompL = Q1_CompL  - 1.5 * IQR_CompL  #vamos a calcular cual sería el umbral por abajo\n",
        "sup_CompL = Q3_CompL  + 1.5 * IQR_CompL  #vamos a calcular cual sería el umbral por arriba\n",
        "\n",
        "print('inf_CompL :',inf_CompL , 'sup_CompL :',sup_CompL )\n",
        "#Quitando outlier\n",
        "df=df[(df[CompL] >= inf_CompL) & (df[CompL] <= sup_CompL)]\n",
        "print('Tamano despues de filtar los outliers de CompL',df.shape)\n",
        "\n",
        "##Eliminando nulos\n",
        "df.dropna(inplace=True)\n",
        "print('Tamano despues de filtar los nulos de CompL',df.shape)"
      ],
      "metadata": {
        "id": "2STSd-EHQYnm"
      },
      "execution_count": null,
      "outputs": []
    },
    {
      "cell_type": "markdown",
      "source": [
        "###Mapa de referencia de la ubicación donde se concentra la mayor cantidad de información seguú coordenadas registradas."
      ],
      "metadata": {
        "id": "uAOrjaiC_oXQ"
      }
    },
    {
      "cell_type": "code",
      "source": [
        "m = folium.Map(location=[-30.559482, 22.937506], zoom_start=6, tiles=\"Stamen Terrain\")\n",
        "\n",
        "folium.Marker(\n",
        "    location=[-33.14892407, 21.22751324],\n",
        "    popup=\"reservoir1\",\n",
        "    icon=folium.Icon(icon=\"info-sign\"),\n",
        ").add_to(m)\n",
        "\n",
        "folium.Marker(\n",
        "    location=[-33.21392663, 21.21755058],\n",
        "    popup=\"reservoir2\",\n",
        "    icon=folium.Icon(color=\"green\"),\n",
        ").add_to(m)\n",
        "\n",
        "folium.Marker(\n",
        "    location=[-33.21621517, 21.24374328],\n",
        "    popup=\"reservoir3\",\n",
        "    icon=folium.Icon(color=\"red\", icon=\"info-sign\"),\n",
        ").add_to(m)\n",
        "\n",
        "\n",
        "m"
      ],
      "metadata": {
        "id": "_Aw4E5gL8wT4"
      },
      "execution_count": null,
      "outputs": []
    },
    {
      "cell_type": "markdown",
      "metadata": {
        "id": "6vn0S7bvXA9w"
      },
      "source": [
        "### Correlacción de variables con respecto a Qo, Qw"
      ]
    },
    {
      "cell_type": "code",
      "metadata": {
        "id": "TStPn5kzTxyo"
      },
      "source": [
        "# Eliminamos columnas que no nos aportan información relevante para la correlación\n",
        "df = df.drop(['BHP'], axis=1) \n",
        "df = df.drop(['lat'], axis=1) \n",
        "df = df.drop(['long'], axis=1) \n",
        "\n"
      ],
      "execution_count": null,
      "outputs": []
    },
    {
      "cell_type": "code",
      "metadata": {
        "id": "4nW6ExjiKtk-"
      },
      "source": [
        "#Generamos un gráfico de calor para ver la relación porcentual que existe\n",
        "#Entre cada variable \n",
        "plt.figure(figsize=(10,10))\n",
        "sns_plot= sns.heatmap(df.corr(method ='pearson'), annot=True, fmt='.0%')"
      ],
      "execution_count": null,
      "outputs": []
    },
    {
      "cell_type": "markdown",
      "metadata": {
        "id": "EkjaqfHFZTbD"
      },
      "source": [
        "Observamos la varianza a través de múltiples variables, revelando cualquier patrón, mostrando si las variables son similares entre sí y para detectar si existen correlaciones entre ellas."
      ]
    },
    {
      "cell_type": "markdown",
      "metadata": {
        "id": "urcyuxNnLQNe"
      },
      "source": [
        "**¿Cuáles son las variables que más afectan la producción?**\n",
        "\n",
        "Se observa que **los atributos más influyentes en la producción de petróleo** que cuenta con un 26% (Qw), 21% (Qg), 16%(FlowDays), 11% (CompL) de ocurrencias respecto al atributo Qo, influyen de manera directamente proporcional en la producción de petróleo. A mayor producción de agua, mayor producción de gas, mayor completamiento (pies) mayor producción de petróleo.\n",
        "\n",
        "\n",
        "**¿Cuáles son las variables que más afectan la tasa de producción de agua?**\n",
        "\n",
        "Se observa que **los atributos más influyente en la producción de agua** que cuenta con un 29% (completamiento) de ocurrencias respecto al atributo Qw, influye directamente proporcional en la producción de agua. Igual a mayor completamiento (pies) mayor producción de agua.\n",
        "\n",
        "Y se oberva una correlación pequeña -5% inversamente proporcional entre Qw y \n",
        "la profundidad verdadera (TD). A menor profundidad verdadera mayor producción de agua, se refiere entonces a que llega más agua en pozos inclindados.\n"
      ]
    },
    {
      "cell_type": "markdown",
      "source": [
        "### **Veamos gráficamente cómo se comportan estas variables más influyentes con respecto a la tasa de producción de petróleo y agua.**"
      ],
      "metadata": {
        "id": "Y7zN67j67D1f"
      }
    },
    {
      "cell_type": "markdown",
      "source": [
        "### Comportamiento de la tasa de producción de petróleo con respecto a la tasa de producción de agua."
      ],
      "metadata": {
        "id": "XsOXQ7s2lb_n"
      }
    },
    {
      "cell_type": "code",
      "execution_count": null,
      "metadata": {
        "scrolled": true,
        "id": "64izyclUdUV3"
      },
      "outputs": [],
      "source": [
        "df[['Qo','Qw']].plot(figsize=(16,9))\n",
        "plt.show()"
      ]
    },
    {
      "cell_type": "markdown",
      "source": [
        "### Comportamiento de la tasa de producción con respecto al completamiento."
      ],
      "metadata": {
        "id": "Unk6xAholiMg"
      }
    },
    {
      "cell_type": "code",
      "source": [
        "df[['Qo','CompL']].plot(figsize=(16,9))\n",
        "plt.show()"
      ],
      "metadata": {
        "id": "G4zXWefBfzU8"
      },
      "execution_count": null,
      "outputs": []
    },
    {
      "cell_type": "markdown",
      "source": [
        "### Completamiento vs. tasa de producción de petróleo."
      ],
      "metadata": {
        "id": "9YCHX-t48tcf"
      }
    },
    {
      "cell_type": "code",
      "source": [
        "g= sns.set(style='whitegrid')\n",
        "fig, ax = plt.subplots(figsize=(80,20))\n",
        "sns.boxplot(x=df.CompL,y=df.Qo, width=.9)\n",
        "plt.title(\"Completamiento vs. tasa de producción de petróleo\", fontsize=80)\n",
        "#plt.ylim(0, 2)  # limitar y, para que los 'outliers' no ocupan la mayoría del espacio\n",
        "sns.despine(top=True,\n",
        "            right=True,\n",
        "            left=True,\n",
        "            bottom=False)"
      ],
      "metadata": {
        "id": "pNkttD1vhW9t"
      },
      "execution_count": null,
      "outputs": []
    },
    {
      "cell_type": "markdown",
      "source": [
        "**¿Cuál es el completamiento que dá tasas más altas de producción de petróleo?**\n",
        "\n",
        "El completamiento que dá tasas más altas de producción de petróleo es el de 36,08924 (ft), su caja naranja se ve más arriba que los demás y observa que este alcanza tasas de produccion de petróleo máximas de hasta 62 (bbl/d). \n",
        "\n",
        "\n",
        "**¿Cuál es el completamiento que dá tasas más bajas de producción de petróleo?**\n",
        "\n",
        "El completamiento que dá tasas más bajas de producción es el de 95.14436 (ft)su caja es prácticamente una línea se ve más abajo que los demás y observa que este alcanza tasas de producción mínimas de hasta 9 (bbl/d); esto puede deberse a otros factor (valores atípicos, etc) que se sugiere explorar detenidamente para contrastar la información de manera adecuada.\n"
      ],
      "metadata": {
        "id": "MoSRAdUPinPF"
      }
    },
    {
      "cell_type": "code",
      "source": [
        "g= sns.set(style='whitegrid')\n",
        "fig, ax = plt.subplots(figsize=(80,20))\n",
        "sns.boxplot(x=df.CompL,y=df.Qw, width=.9)\n",
        "plt.title(\"Completamiento vs. tasa de producción de agua\", fontsize=80)\n",
        "#plt.ylim(0, 2)  # limitar y, para que los 'outliers' no ocupan la mayoría del espacio\n",
        "sns.despine(top=True,\n",
        "            right=True,\n",
        "            left=True,\n",
        "            bottom=False)"
      ],
      "metadata": {
        "id": "qNoVKl3Ukoxc"
      },
      "execution_count": null,
      "outputs": []
    },
    {
      "cell_type": "markdown",
      "source": [
        "**¿Cuál es el completamiento que dá tasas más altas de producción de agua?**\n",
        "\n",
        "El completamiento que dá tasas más altas de producción de agua es el de 95,80735 (ft), su caja morada se vé más arriba que los demás y observa que este alcanza tasas de producción de agua máximas de hasta 2000 (bbl/d). Esto justifica que su producción de petróleo sea la mínima). Revisar si se conecta con formaciones de agua (acuífero) cercanas. \n",
        "\n",
        "**¿Cuál es el completamiento que dá tasas más bajas de producción de agua?**\n",
        "El completamiento que dá tasas más bajas de producción de agua es el de 75,07141 (ft), su caja azul agua marina se vé más abajo que los demás y se observa que este alcanza tasas de producción de agua mínimas de hasta 10 (bbl/d). \n"
      ],
      "metadata": {
        "id": "ezNjQN-4kNqS"
      }
    },
    {
      "cell_type": "markdown",
      "metadata": {
        "id": "6qSNswnAYxwX"
      },
      "source": [
        "## 3. Modelamiento"
      ]
    },
    {
      "cell_type": "markdown",
      "metadata": {
        "id": "9hPjFExvdAoC"
      },
      "source": [
        "## 3.1. Regresión lineal"
      ]
    },
    {
      "cell_type": "markdown",
      "source": [
        "Este modelo pretende predecir la tasa de producción dependiendo del tipo de yacimiento. "
      ],
      "metadata": {
        "id": "EfKGPOos_xZo"
      }
    },
    {
      "cell_type": "code",
      "source": [
        "# Eliminamos columnas que no nos aportan información relevante para el modelo\n",
        "df = df.drop(['Type'], axis=1) #wellAPI no nos dice nada acerca del Qo\n",
        "df = df.drop(['wellAPI'], axis=1) #wellAPI no nos dice nada acerca del Qo\n",
        "df = df.drop(['Wellname'], axis=1) #wellAPI no nos dice nada acerca del Qo"
      ],
      "metadata": {
        "id": "yatAccYmZYZS"
      },
      "execution_count": null,
      "outputs": []
    },
    {
      "cell_type": "code",
      "metadata": {
        "id": "q4V5YiPfdfA3"
      },
      "source": [
        "X_lineal=df.drop(['reservoir'], axis=1).values\n",
        "y_lineal=df[target].values"
      ],
      "execution_count": null,
      "outputs": []
    },
    {
      "cell_type": "code",
      "metadata": {
        "id": "ft6EBoTLpkPZ"
      },
      "source": [
        "from sklearn.model_selection import train_test_split\n",
        "from sklearn.linear_model import LinearRegression\n",
        "from sklearn import metrics\n",
        "\n",
        "# Seleccionamos los datos de entrenamiento y prueba\n",
        "X_lineal_train, X_lineal_test, y_lineal_train, y_lineal_test = train_test_split(X_lineal,y_lineal,test_size=0.3,random_state=3)\n",
        "\n"
      ],
      "execution_count": null,
      "outputs": []
    },
    {
      "cell_type": "code",
      "metadata": {
        "id": "DB4EG-D2rHPA"
      },
      "source": [
        "# Entrenamos el modelo\n",
        "linear  = LinearRegression(normalize=True)\n",
        "linear.fit(X_lineal_train,y_lineal_train)"
      ],
      "execution_count": null,
      "outputs": []
    },
    {
      "cell_type": "markdown",
      "metadata": {
        "id": "-kZA8o9nerKN"
      },
      "source": [
        "Obtengamos ahora los datos predichos por el modelo y calculemos las métricas."
      ]
    },
    {
      "cell_type": "code",
      "metadata": {
        "id": "6HPDFn4ResPK"
      },
      "source": [
        "y_lineal_pred = linear.predict(X_lineal_test)"
      ],
      "execution_count": null,
      "outputs": []
    },
    {
      "cell_type": "code",
      "metadata": {
        "colab": {
          "base_uri": "https://localhost:8080/"
        },
        "id": "7b7mbcSoel_K",
        "outputId": "dd80fcd8-39f4-421e-dc1d-7162da767194"
      },
      "source": [
        "print('MAE: ', metrics.mean_absolute_error(y_lineal_test, y_lineal_pred))\n",
        "print('MSE: ', metrics.mean_squared_error(y_lineal_test, y_lineal_pred))\n",
        "print('RMSE: ', np.sqrt(metrics.mean_squared_error(y_lineal_test, y_lineal_pred)))"
      ],
      "execution_count": null,
      "outputs": [
        {
          "output_type": "stream",
          "name": "stdout",
          "text": [
            "MAE:  5.574956911235456e-15\n",
            "MSE:  4.0132915858630674e-29\n",
            "RMSE:  6.335054526886937e-15\n"
          ]
        }
      ]
    },
    {
      "cell_type": "markdown",
      "metadata": {
        "id": "HdMISs4jhNHy"
      },
      "source": [
        "Y calculemos el coeficiente de determinación R2."
      ]
    },
    {
      "cell_type": "code",
      "metadata": {
        "colab": {
          "base_uri": "https://localhost:8080/"
        },
        "id": "A-wBFVKChIaI",
        "outputId": "03ef777f-6c7e-4206-cbbe-62975b2754cc"
      },
      "source": [
        "print('R2: ', metrics.r2_score(y_lineal_test, y_lineal_pred))"
      ],
      "execution_count": null,
      "outputs": [
        {
          "output_type": "stream",
          "name": "stdout",
          "text": [
            "R2:  1.0\n"
          ]
        }
      ]
    },
    {
      "cell_type": "markdown",
      "metadata": {
        "id": "B4uHOLd1hctT"
      },
      "source": [
        "Se comprueba además si los errores se distribuyen según una distribución normal, lo que nos da una prueba de la valídez de nuestro modelo. Mediante un histograma de residuos."
      ]
    },
    {
      "cell_type": "code",
      "metadata": {
        "id": "eVYhZz8VhmoC"
      },
      "source": [
        "sns.distplot((y_lineal_test - y_lineal_pred), bins = 50)\n",
        "plt.show()"
      ],
      "execution_count": null,
      "outputs": []
    },
    {
      "cell_type": "markdown",
      "metadata": {
        "id": "MIDk00h7h1Sq"
      },
      "source": [
        "Una vez se entrena el modelo de regresión lineal, las predicciones se obtienen rápidamente.\n"
      ]
    },
    {
      "cell_type": "markdown",
      "metadata": {
        "id": "-IASR4LrNpdV"
      },
      "source": [
        "## 3.2. RandomForestRegressor\n",
        "\n",
        "\n"
      ]
    },
    {
      "cell_type": "markdown",
      "source": [
        "Este modelo pretende predecir la tasa de producción de  dependiendo del tipo de yacimiento. "
      ],
      "metadata": {
        "id": "ApIi0QPa_7QZ"
      }
    },
    {
      "cell_type": "code",
      "metadata": {
        "id": "-Dnh04l5LSs5"
      },
      "source": [
        "X=df.drop([target,'reservoir'], axis=1).values\n",
        "y=df[target].values"
      ],
      "execution_count": null,
      "outputs": []
    },
    {
      "cell_type": "code",
      "metadata": {
        "id": "a4kaQvCmqK4S"
      },
      "source": [
        "from sklearn.ensemble import RandomForestRegressor\n",
        "from sklearn.linear_model import Lasso, LinearRegression\n",
        "from sklearn.svm import SVR\n",
        "from sklearn.model_selection import train_test_split, GridSearchCV\n",
        "from sklearn.metrics import r2_score, mean_squared_error, mean_absolute_error"
      ],
      "execution_count": null,
      "outputs": []
    },
    {
      "cell_type": "code",
      "metadata": {
        "id": "CakRbgHtqErJ"
      },
      "source": [
        "for rs in range(3): \n",
        "    X_train, X_test, y_train, y_test = train_test_split(X, y, test_size=0.30, random_state=rs)\n",
        "\n",
        "    ## Haciendo el barrido de parámetros\n",
        "    parameters = {'max_depth': np.arange(1,40,1)}\n",
        "    estimator=GridSearchCV(RandomForestRegressor(n_estimators=100,random_state=rs), parameters, cv=5,n_jobs=-1)\n",
        "    estimator.fit(X,y)\n",
        "    print(estimator.best_params_)\n",
        "\n",
        "    ## Entrenando y evaluado el modelo\n",
        "    reg=RandomForestRegressor(n_estimators=100,max_depth=estimator.best_params_['max_depth'],random_state=rs)\n",
        "    reg.fit(X_train,y_train)\n",
        "    y_pred=reg.predict(X_test)\n",
        "    print ('r2 ','tTest:',r2_score(y_test,y_pred), 'tTrain:',r2_score(y_train,reg.predict(X_train)))\n",
        "    print ('MAE ','tTest:',mean_absolute_error(y_test,y_pred), 'tTrain:',mean_absolute_error(y_train,reg.predict(X_train)))\n",
        "    print ('RMSE ','tTest:',np.sqrt(mean_squared_error(y_test,y_pred)), 'tTrain:',np.sqrt(mean_squared_error(y_train,reg.predict(X_train))))\n",
        "    print ('stdTest:',np.std(y_test),'stdTrain:',np.std(y_train),'stdAll:',np.std(y))\n",
        "    print ('ErrorTest:', np.sqrt(mean_squared_error(y_test,y_pred))/np.mean(y_test), \n",
        "           'ErrorTrain:',np.sqrt(mean_squared_error(y_train,reg.predict(X_train)))/np.mean(y_train),\n",
        "           'ErrorAll:', np.sqrt(mean_squared_error(y_test,y_pred))/np.mean(y))\n",
        "    ## Graficando el las carateristicas principales\n",
        "    ejex=range(X.shape[1])\n",
        "    ejey=reg.feature_importances_\n",
        "    plt.figure()\n",
        "    plt.bar(ejex,ejey)\n",
        "    plt.xticks(ejex,list(df.drop(target,axis=1).columns),rotation=90)\n",
        "    plt.show()\n",
        "    plt.close()"
      ],
      "execution_count": null,
      "outputs": []
    },
    {
      "cell_type": "markdown",
      "metadata": {
        "id": "oSjgX2FzaOKa"
      },
      "source": [
        "**Conclusión**"
      ]
    },
    {
      "cell_type": "markdown",
      "metadata": {
        "id": "zCrxIkk-aP2q"
      },
      "source": [
        "La técnica que mostró mejor desempeño de forma general es el RANDOMFOREST, mostrando un buen r2= 0.68 de entrenamiento para profundidades máximas superiores a 31. Adicional se decide elegir Randomforest en vez de regresión lineal teniendo en cuenta la no linealidad de los datos. En este caso, Randomforest puede hacer un mejor trabajo al capturar la no linealidad en los datos dividiendo el espacio en subespacios más pequeños dependiendo de las preguntas formuladas y aportar un resultado más preciso de el valor de Qo."
      ]
    }
  ]
}